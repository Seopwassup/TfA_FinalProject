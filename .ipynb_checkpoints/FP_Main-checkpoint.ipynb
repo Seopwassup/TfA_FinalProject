{
 "cells": [
  {
   "cell_type": "markdown",
   "id": "cd7a9a5c",
   "metadata": {},
   "source": [
    "# Tools for Analytics Final Project ###"
   ]
  },
  {
   "cell_type": "markdown",
   "id": "de9229b8",
   "metadata": {},
   "source": [
    "Jaeseop Shin / js6364  &. Hyunjin Jun / hj2642"
   ]
  },
  {
   "cell_type": "markdown",
   "id": "5bff4e23",
   "metadata": {},
   "source": [
    "## Environment Setup"
   ]
  },
  {
   "cell_type": "code",
   "execution_count": 4,
   "id": "cc4d1542",
   "metadata": {},
   "outputs": [],
   "source": [
    "# Importing all libraries used for the project\n",
    "\n",
    "import numpy as np\n",
    "import math\n",
    "import matplotlib.pyplot as plt\n",
    "import seaborn as sns\n",
    "import pandas as pd\n",
    "import geopandas as gpd\n",
    "import requests\n",
    "import psycopg2\n",
    "\n",
    "\n",
    "\n",
    "from bs4 import BeautifulSoup\n",
    "from sodapy import Socrata\n",
    "from sqlalchemy import create_engine\n",
    "\n",
    "# SQL Data\n",
    "db_username = \"\""
   ]
  },
  {
   "cell_type": "markdown",
   "id": "9123a063",
   "metadata": {},
   "source": [
    "## Part 1. Data Processing"
   ]
  },
  {
   "cell_type": "markdown",
   "id": "bb5cb550",
   "metadata": {},
   "source": [
    "### Data Setup"
   ]
  },
  {
   "cell_type": "code",
   "execution_count": 7,
   "id": "06cf42df",
   "metadata": {},
   "outputs": [],
   "source": [
    "app_token = \"2Hn2wwabCLXVYhGN4b9tEtJ11\"\n",
    "\n",
    "# Downloading NYC 311 data\n",
    "url_311 = \"data.cityofnewyork.us\"\n",
    "set_311 = \"erm2-nwe9\"\n",
    "client_311 = Socrata(url_311, app_token)\n",
    "client_311.timeout = 60\n",
    "# Filter\n",
    "where_311 = \"date_extract_y(created_date)>=2015\"\n",
    "# Data to CSV\n",
    "data_311 = client_311.get(set_311, where=where_311, limit=2000)\n",
    "df_311 = pd.DataFrame.from_records(data_311)\n",
    "#df_311.to_csv(\"nyc_311.csv\")\n",
    "\n",
    "# Downloading NYC Tree data\n",
    "url_tree = \"data.cityofnewyork.us\"\n",
    "set_tree = \"uvpi-gqnh\"\n",
    "client_tree = Socrata(url_tree, app_token)\n",
    "client_tree.timeout = 60\n",
    "# Filter\n",
    "where_tree = \"filter_conditions\"\n",
    "select_tree = \"filter_conditions\"\n",
    "# Data to CSV\n",
    "data_tree = client_tree.get(set_tree, where=where_tree, select=select_tree limit=2000)\n",
    "df_tree = pd.DataFrame.from_records(data_tree)\n",
    "#df_tree.to_csv(\"nyc_tree.csv\")\n",
    "\n",
    "\n",
    "rent_path = \"/Users/ariez/Columbia/Tools for Analytics/GIT/TfA_FinalProject/data/zillow_rent_data.csv\"          # Should be altered by users\n",
    "df_rent = pd.read_csv(rent_path)\n",
    "nyc_zipcodes_shp_path = \"/Users/ariez/Columbia/Tools for Analytics/GIT/TfA_FinalProject/data/nyc_zipcodes.shp\"       # Should be altered by users\n",
    "gdf_zipcode = gpd.read_file(nyc_zipcodes_shp_path)\n",
    "\n",
    "# Coordiante Reference System\n",
    "CRS = 4326"
   ]
  },
  {
   "cell_type": "markdown",
   "id": "33c80d59",
   "metadata": {},
   "source": [
    "### Data Cleaning & Filtering "
   ]
  },
  {
   "cell_type": "code",
   "execution_count": 1,
   "id": "f6eb8a9d",
   "metadata": {},
   "outputs": [],
   "source": [
    "def clean_filter(data_frame, column_remove, column_rename, column_type):\n",
    "    \"\"\"Removes unnecessary columns, rename columns, confirm types of columns\"\"\"\n",
    "    data_frame.drop(\"column to remove\", axis=1, inplace=True)\n",
    "    data_frame.rename(columns=column_rename, inplace=True)\n",
    "    for column, dtype in column_type.items():\n",
    "        if dtype == 'datetime64':\n",
    "            data_frame[column] = pd.to_datetime(data_frame[column], errors='coerce')\n",
    "        else:\n",
    "            data_frame[column] = data_frame[column].astype(dtype, errors='coerce')"
   ]
  },
  {
   "cell_type": "code",
   "execution_count": null,
   "id": "efb15269",
   "metadata": {},
   "outputs": [],
   "source": [
    "# NYC 311 Cleaning & Filtering\n",
    "# Columns to remove\n",
    "remove_311 = [\n",
    "    'column1',\n",
    "    'column2',\n",
    "    'column3',\n",
    "]\n",
    "# Columns to rename\n",
    "rename_311 = {\n",
    "    'column1': 'new1',\n",
    "    'column2': 'new2',\n",
    "    'column3': 'new3',\n",
    "}\n",
    "# Column types\n",
    "type_311 = {\n",
    "    'column1': 'new1',\n",
    "    'column2': 'new2',\n",
    "    'column3': 'new3',\n",
    "}\n",
    "\n",
    "clean_filter(df_311, remove_311, rename_311, type_311)"
   ]
  },
  {
   "cell_type": "code",
   "execution_count": 2,
   "id": "2b195ff4",
   "metadata": {},
   "outputs": [],
   "source": [
    "# NYC Tree Cleaning & Filtering\n",
    "# Columns to remove\n",
    "remove_tree = [\n",
    "    'column1',\n",
    "    'column2',\n",
    "    'column3',\n",
    "]\n",
    "# Columns to rename\n",
    "rename_tree = {\n",
    "    'column1': 'new1',\n",
    "    'column2': 'new2',\n",
    "    'column3': 'new3',\n",
    "}\n",
    "# Column types\n",
    "type_tree = {\n",
    "    'column1': 'new1',\n",
    "    'column2': 'new2',\n",
    "    'column3': 'new3',\n",
    "}\n",
    "\n",
    "clean_filter(df_tree, remove_tree, rename_tree, type_tree)"
   ]
  },
  {
   "cell_type": "code",
   "execution_count": 3,
   "id": "2a4bdac0",
   "metadata": {},
   "outputs": [],
   "source": [
    "# Zillow Rent Cleaning & Filtering\n",
    "# Columns to remove\n",
    "remove_rent = [\n",
    "    'column1',\n",
    "    'column2',\n",
    "    'column3',\n",
    "]\n",
    "# Columns to rename\n",
    "rename_rent = {\n",
    "    'column1': 'new1',\n",
    "    'column2': 'new2',\n",
    "    'column3': 'new3',\n",
    "}\n",
    "# Column types\n",
    "type_rent = {\n",
    "    'column1': 'new1',\n",
    "    'column2': 'new2',\n",
    "    'column3': 'new3',\n",
    "}\n",
    "\n",
    "clean_filter(df_rent, remove_rent, rename_rent, type_rent)"
   ]
  },
  {
   "cell_type": "code",
   "execution_count": 5,
   "id": "e5f10460",
   "metadata": {},
   "outputs": [],
   "source": [
    "# Zipcode Cleaning & Filtering\n",
    "# Columns to remove\n",
    "remove_gdf = [\n",
    "    'column1',\n",
    "    'column2',\n",
    "    'column3',\n",
    "]\n",
    "# Columns to rename\n",
    "rename_gdf = {\n",
    "    'column1': 'new1',\n",
    "    'column2': 'new2',\n",
    "    'column3': 'new3',\n",
    "}\n",
    "# Column types\n",
    "type_gdf = {\n",
    "    'column1': 'new1',\n",
    "    'column2': 'new2',\n",
    "    'column3': 'new3',\n",
    "}\n",
    "\n",
    "clean_filter(gdf_zipcode, remove_gdf, rename_gdf, type_gdf)"
   ]
  },
  {
   "cell_type": "code",
   "execution_count": null,
   "id": "8a5afe80",
   "metadata": {},
   "outputs": [],
   "source": []
  }
 ],
 "metadata": {
  "kernelspec": {
   "display_name": "Python 3 (ipykernel)",
   "language": "python",
   "name": "python3"
  },
  "language_info": {
   "codemirror_mode": {
    "name": "ipython",
    "version": 3
   },
   "file_extension": ".py",
   "mimetype": "text/x-python",
   "name": "python",
   "nbconvert_exporter": "python",
   "pygments_lexer": "ipython3",
   "version": "3.10.12"
  }
 },
 "nbformat": 4,
 "nbformat_minor": 5
}
