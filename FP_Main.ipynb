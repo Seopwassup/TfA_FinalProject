{
 "cells": [
  {
   "cell_type": "markdown",
   "id": "cd7a9a5c",
   "metadata": {},
   "source": [
    "# Tools for Analytics Final Project ###"
   ]
  },
  {
   "cell_type": "markdown",
   "id": "de9229b8",
   "metadata": {},
   "source": [
    "Jaeseop Shin / js6364  &. Hyunjin Jun / hj2642"
   ]
  },
  {
   "cell_type": "markdown",
   "id": "5bff4e23",
   "metadata": {},
   "source": [
    "## Environment Setup"
   ]
  },
  {
   "cell_type": "code",
   "execution_count": null,
   "id": "cc4d1542",
   "metadata": {},
   "outputs": [],
   "source": [
    "# Importing all libraries used for the project\n",
    "\n",
    "import numpy as np\n",
    "import math\n",
    "import matplotlib.pyplot as plt\n",
    "import seaborn as sns\n",
    "import pandas as pd\n",
    "import geopandas as gpd\n",
    "import requests\n",
    "import psycopg2\n",
    "import pathlib\n",
    "\n",
    "\n",
    "from bs4 import BeautifulSoup\n",
    "from sodapy import Socrata\n",
    "from sqlalchemy import create_engine\n",
    "from shapely.geometry import Point\n",
    "\n",
    "# SQL Data\n",
    "db_username = \"user_name\"\n",
    "db_name = \"name\"\n",
    "db_url = f\"postgres+psycopg2://{db_username}@localhost/{db_name}\"\n",
    "db_schema = \"schema.sql\"\n",
    "# directory where DB queries for Part 3 will be saved\n",
    "QUERY_DIR = pathlib.Path(\"queries\")\n",
    "\n",
    "# Make sure the QUERY_DIRECTORY exists\n",
    "if not QUERY_DIR.exists():\n",
    "    QUERY_DIR.mkdir()"
   ]
  },
  {
   "cell_type": "markdown",
   "id": "9123a063",
   "metadata": {},
   "source": [
    "## Part 1. Data Processing"
   ]
  },
  {
   "cell_type": "markdown",
   "id": "bb5cb550",
   "metadata": {},
   "source": [
    "### Data Setup"
   ]
  },
  {
   "cell_type": "code",
   "execution_count": null,
   "id": "06cf42df",
   "metadata": {},
   "outputs": [],
   "source": [
    "app_token = \"2Hn2wwabCLXVYhGN4b9tEtJ11\"\n",
    "\n",
    "\n",
    "# Downloading NYC 311 data\n",
    "url_311 = \"data.cityofnewyork.us\"\n",
    "set_311 = \"erm2-nwe9\"\n",
    "client_311 = Socrata(url_311, app_token)\n",
    "client_311.timeout = 60\n",
    "# Filtering data after 2015\n",
    "where_311 = \"date_extract_y(created_date)>=2015\"\n",
    "# Data to data frame\n",
    "data_311 = client_311.get(set_311, where=where_311, limit=20)\n",
    "df_311 = pd.DataFrame.from_records(data_311)\n",
    "#df_311.to_csv(\"nyc_311.csv\")\n",
    "\n",
    "# Downloading NYC Tree data\n",
    "url_tree = \"data.cityofnewyork.us\"\n",
    "set_tree = \"uvpi-gqnh\"\n",
    "client_tree = Socrata(url_tree, app_token)\n",
    "client_tree.timeout = 60\n",
    "# Data to data frame\n",
    "data_tree = client_tree.get(set_tree, limit=20)\n",
    "df_tree = pd.DataFrame.from_records(data_tree)\n",
    "#df_tree.to_csv(\"nyc_tree.csv\")\n",
    "\n",
    "# Loading local data files\n",
    "data_dir = pathlib.Path(\"data\")\n",
    "rent_path = data_dir / \"zillow_rent_data.csv\"          \n",
    "df_rent = pd.read_csv(rent_path)\n",
    "nyc_zipcodes_shp_path = data_dir / \"nyc_zipcodes.shp\"\n",
    "gdf_zipcode = gpd.read_file(nyc_zipcodes_shp_path)\n",
    "gdf_zipcode = gdf_zipcode.to_crs(\"EPSG:4326\")"
   ]
  },
  {
   "cell_type": "code",
   "execution_count": null,
   "id": "24a4d356",
   "metadata": {},
   "outputs": [],
   "source": [
    "df_311.head()"
   ]
  },
  {
   "cell_type": "markdown",
   "id": "33c80d59",
   "metadata": {},
   "source": [
    "### Data Cleaning & Filtering "
   ]
  },
  {
   "cell_type": "code",
   "execution_count": null,
   "id": "f6eb8a9d",
   "metadata": {},
   "outputs": [],
   "source": [
    "def clean_filter(data_frame, column_use, column_rename, column_type):\n",
    "    \"\"\"Removes unnecessary columns, rename columns, confirm types of columns, discard invalid data\"\"\"\n",
    "    data_frame = data_frame[column_use]\n",
    "    data_frame = data_frame.rename(columns=column_rename)\n",
    "    for column, dtype in column_type.items():\n",
    "        if dtype == 'datetime':\n",
    "            data_frame[column] = pd.to_datetime(data_frame[column], errors='coerce')\n",
    "        else:\n",
    "            data_frame[column] = data_frame[column].astype(dtype, errors='raise')\n",
    "    data_frame.dropna(inplace=True)\n",
    "    return data_frame"
   ]
  },
  {
   "cell_type": "code",
   "execution_count": null,
   "id": "efb15269",
   "metadata": {},
   "outputs": [],
   "source": [
    "# NYC 311 Cleaning & Filtering\n",
    "# Columns to remove\n",
    "use_311 = [\n",
    "    'unique_key',\n",
    "    'created_date',\n",
    "    'complaint_type',\n",
    "    'incident_zip',\n",
    "    'city',\n",
    "    'x_coordinate_state_plane',\n",
    "    'y_coordinate_state_plane',\n",
    "    'latitude',\n",
    "    'longitude',\n",
    "]\n",
    "# Columns to rename\n",
    "rename_311 = {\n",
    "    'unique_key': 'complaint_id',\n",
    "    'created_date': 'date',\n",
    "    'complaint_type': 'complaint_type',\n",
    "    'incident_zip': 'zipcode',\n",
    "    'city': 'city',\n",
    "    'x_coordinate_state_plane': 'x_coord',\n",
    "    'y_coordinate_state_plane': 'y_coord',\n",
    "    'latitude': 'latitude',\n",
    "    'longitude': 'longitude',\n",
    "}\n",
    "# Column types\n",
    "type_311 = {\n",
    "    'complaint_id': 'int',\n",
    "    'date': 'datetime',\n",
    "    'complaint_type': 'str',\n",
    "    'zipcode': 'int',\n",
    "    'city': 'str',\n",
    "    'x_coord': 'int',\n",
    "    'y_coord': 'int',\n",
    "    'latitude': 'float',\n",
    "    'longitude': 'float',\n",
    "}\n",
    "\n",
    "df_311_f = clean_filter(df_311, use_311, rename_311, type_311)\n",
    "\n",
    "# Converting latitude and longitude into Geometry data\n",
    "df_311_f['geometry'] = df_311_f.apply(lambda x: Point(float(x['longitude']), float(x['latitude'])), axis=1)\n",
    "\n",
    "# Converting DataFrame to GeoDataFrame\n",
    "gdf_311_f = gpd.GeoDataFrame(df_311_f, geometry='geometry')\n",
    "\n",
    "# Setting the coordinate reference system\n",
    "gdf_311_f.set_crs(epsg=4326, inplace=True)\n",
    "gdf_311_f.head()"
   ]
  },
  {
   "cell_type": "code",
   "execution_count": null,
   "id": "2b195ff4",
   "metadata": {},
   "outputs": [],
   "source": [
    "# NYC Tree Cleaning & Filtering\n",
    "# Columns to remove\n",
    "use_tree = [\n",
    "    'tree_id',\n",
    "    'status',\n",
    "    'health',\n",
    "    'spc_common',\n",
    "    'zipcode',\n",
    "    'zip_city',\n",
    "    'latitude',\n",
    "    'longitude',\n",
    "    'x_sp',\n",
    "    'y_sp',\n",
    "]\n",
    "# Columns to rename\n",
    "rename_tree = {\n",
    "    'tree_id': 'tree_id',\n",
    "    'status': 'status',\n",
    "    'health': 'health',\n",
    "    'spc_common': 'species',\n",
    "    'zipcode': 'zipcode',\n",
    "    'zip_city': 'city',\n",
    "    'latitude': 'latitude',\n",
    "    'longitude': 'longitude',\n",
    "    'x_sp': 'x_coord',\n",
    "    'y_sp': 'y_coord',\n",
    "}\n",
    "# Column types\n",
    "type_tree = {\n",
    "    'tree_id': 'int',\n",
    "    'status': 'str',\n",
    "    'health': 'str',\n",
    "    'species': 'str',\n",
    "    'zipcode': 'int',\n",
    "    'city': 'str',\n",
    "    'latitude': 'float',\n",
    "    'longitude': 'float',\n",
    "    'x_coord': 'float',\n",
    "    'y_coord': 'float',\n",
    "}\n",
    "\n",
    "df_tree_f = clean_filter(df_tree, use_tree, rename_tree, type_tree)\n",
    "\n",
    "# Converting latitude and longitude into Geometry data\n",
    "df_tree_f['geometry'] = df_tree_f.apply(lambda x: Point(float(x['longitude']), float(x['latitude'])), axis=1)\n",
    "\n",
    "# Converting DataFrame to GeoDataFrame\n",
    "gdf_tree_f = gpd.GeoDataFrame(df_tree_f, geometry='geometry')\n",
    "\n",
    "# Setting the coordinate reference system\n",
    "gdf_tree_f.set_crs(epsg=4326, inplace=True)\n",
    "gdf_tree_f.head()"
   ]
  },
  {
   "cell_type": "code",
   "execution_count": null,
   "id": "2a4bdac0",
   "metadata": {},
   "outputs": [],
   "source": [
    "# Zillow Rent Cleaning & Filtering\n",
    "# Columns to remove\n",
    "remove_rent = [\n",
    "    'RegionID',\n",
    "    'SizeRank',\n",
    "    'RegionType',\n",
    "    'StateName',\n",
    "    'Metro',\n",
    "    'CountyName',\n",
    "]\n",
    "# Columns to rename\n",
    "rename_rent = {\n",
    "    'RegionName': 'zipcode',\n",
    "    'State': 'state',\n",
    "    'City': 'city',\n",
    "}\n",
    "# Column types\n",
    "type_rent = {\n",
    "    'zipcode': 'int',\n",
    "    'state': 'str',\n",
    "    'city': 'str'\n",
    "}\n",
    "\n",
    "# Removing and renaming columns\n",
    "df_rent_f = df_rent.drop(columns=remove_rent, axis=1)\n",
    "df_rent_f = df_rent_f.rename(columns=rename_rent)\n",
    "# Confirming Data type\n",
    "for column, dtype in type_rent.items():\n",
    "    df_rent_f[column] = df_rent_f[column].astype(dtype, errors='raise')\n",
    "for column in df_rent_f.iloc[:, 3:]:\n",
    "    df_rent_f[column] = df_rent_f[column].astype('float', errors='raise')\n",
    "# Discarding blank data\n",
    "df_rent_f.dropna(inplace=True)\n",
    "df_rent_f.head()"
   ]
  },
  {
   "cell_type": "code",
   "execution_count": null,
   "id": "29894454",
   "metadata": {},
   "outputs": [],
   "source": [
    "# Zipcode Cleaning & Filtering\n",
    "# Columns to remove\n",
    "use_gdf = [\n",
    "    'ZIPCODE',\n",
    "    'PO_NAME',\n",
    "    'STATE',\n",
    "    'COUNTY',\n",
    "    'geometry',\n",
    "]\n",
    "# Columns to rename\n",
    "rename_gdf = {\n",
    "    'ZIPCODE': 'zipcode',\n",
    "    'PO_NAME': 'city',\n",
    "    'STATE': 'state',\n",
    "    'COUNTY': 'county',\n",
    "    'geometry': 'geometry',\n",
    "}\n",
    "# Column types\n",
    "type_gdf = {\n",
    "    'zipcode': 'int',\n",
    "    'city': 'str',\n",
    "    'state': 'str',\n",
    "    'county': 'str',\n",
    "    'geometry': 'geometry',\n",
    "}\n",
    "\n",
    "gdf_zipcode_f = clean_filter(gdf_zipcode, use_gdf, rename_gdf, type_gdf)\n",
    "gdf_zipcode_f.head()"
   ]
  },
  {
   "cell_type": "markdown",
   "id": "8afb69c2",
   "metadata": {},
   "source": [
    "## Part 2. Storing Data"
   ]
  },
  {
   "cell_type": "code",
   "execution_count": null,
   "id": "2d11ed4c",
   "metadata": {},
   "outputs": [],
   "source": [
    "def setup_new_postgis_database(user_name, db_name):\n",
    "    \"\"\"Setting up a new PostGis Database\"\"\"\n",
    "    os.system(f\"createdb -U {user_name} {db_name}\")\n",
    "    os.system(f\"psql -U {user_name} --dbname {db_name} -c 'CREATE EXTENSION postgis;'\")"
   ]
  },
  {
   "cell_type": "code",
   "execution_count": null,
   "id": "9698f4a7",
   "metadata": {},
   "outputs": [],
   "source": [
    "setup_new_postgis_database(db_username, db_name)"
   ]
  },
  {
   "cell_type": "markdown",
   "id": "756869fc",
   "metadata": {},
   "source": [
    "### Creating Tables"
   ]
  },
  {
   "cell_type": "code",
   "execution_count": null,
   "id": "7f8cc2c4",
   "metadata": {},
   "outputs": [],
   "source": [
    "engine = create_engine(db_url)"
   ]
  },
  {
   "cell_type": "code",
   "execution_count": null,
   "id": "d30b2b66",
   "metadata": {},
   "outputs": [],
   "source": [
    "# Defining the SQL statements to create 311, tree, rent, and zipcode tables\n",
    "nyc_311_schema = \"\"\"\n",
    "CREATE TABLE IF NOT EXISTS nyc_311 \n",
    "(\n",
    "    complaint_id INTEGER PRIMARY KEY,\n",
    "    date DATETIME,\n",
    "    complaint_type TEXT,\n",
    "    zipcode INTEGER,\n",
    "    city TEXT,\n",
    "    x_coord INTEGER,\n",
    "    y_coord INTEGER,\n",
    "    latitude FLOAT,\n",
    "    longitude FLOAT,\n",
    "    geometry POINT\n",
    ");\n",
    "\n",
    "CREATE INDEX IF NOT EXISTS idx_nyc_311_geom ON nyc_311 USING GIST (geometry);\n",
    "\"\"\"\n",
    "\n",
    "nyc_tree_schema = \"\"\"\n",
    "CREATE TABLE IF NOT EXISTS nyc_tree\n",
    "(\n",
    "    tree_id INTEGER PRIMARY KEY,\n",
    "    status TEXT,\n",
    "    health TEXT,\n",
    "    species TEXT,\n",
    "    zipcode INTEGER,\n",
    "    city TEXT,\n",
    "    latitude FLOAT,\n",
    "    longitude FLOAT,\n",
    "    x_coord FLOAT,\n",
    "    y_coord FLOAT,\n",
    "    geometry POINT\n",
    ");\n",
    "\n",
    "CREATE INDEX IF NOT EXISTS idx_nyc_tree_geom ON nyc_tree USING GIST (geometry);\n",
    "\"\"\"\n",
    "\n",
    "nyc_rent_schema = \"\"\"\n",
    "CREATE TABLE IF NOT EXISTS nyc_rent\n",
    "(\n",
    "    zipcode INTEGER PRIMARY KEY,\n",
    "    state TEXT,\n",
    "    city STRING\n",
    ")\n",
    "\"\"\"\n",
    "\n",
    "nyc_zipcode_schema = \"\"\"\n",
    "CREATE TABLE IF NOT EXISTS nyc_zipcode\n",
    "(\n",
    "    zipcode INTEGER PRIMARY KEY,\n",
    "    city TEXT,\n",
    "    state TEXT,\n",
    "    county TEXT,\n",
    "    geometry POLYGON\n",
    ");\n",
    "\n",
    "CREATE INDEX IF NOT EXISTS idx_nyc_zipcode_geom ON nyc_zipcode USING GIST (geometry);\n",
    "\"\"\""
   ]
  },
  {
   "cell_type": "code",
   "execution_count": null,
   "id": "007992f4",
   "metadata": {},
   "outputs": [],
   "source": [
    "# creating the required schema.sql file\n",
    "with open(db_schema, \"w\") as f:\n",
    "    f.write(nyc_311_schema)\n",
    "    f.write(nyc_tree_schema)\n",
    "    f.write(nyc_rent_schema)\n",
    "    f.write(nyc_zipcode_schema)"
   ]
  },
  {
   "cell_type": "code",
   "execution_count": null,
   "id": "50ce0dde",
   "metadata": {},
   "outputs": [],
   "source": [
    "# Executing the schema files to create tables\n",
    "with engine.connect() as connection:\n",
    "    pass"
   ]
  },
  {
   "cell_type": "markdown",
   "id": "3a74ebcc",
   "metadata": {},
   "source": [
    "### Adding Data to Database"
   ]
  },
  {
   "cell_type": "code",
   "execution_count": null,
   "id": "4fe27f30",
   "metadata": {},
   "outputs": [],
   "source": [
    "def write_dataframes_to_table(tablename_to_dataframe):\n",
    "    \"\"\"Inserting dataframe into SQL tables\"\"\"\n",
    "    with engine.connect() as connection:\n",
    "        for table_name, df in tablename_to_dataframe.items():\n",
    "            df.to_sql(table_name, con=connection, if_exists='replace', index=False)\n"
   ]
  },
  {
   "cell_type": "code",
   "execution_count": null,
   "id": "d09b3fe2",
   "metadata": {},
   "outputs": [],
   "source": [
    "# Dataframe to Table mapping\n",
    "tablename_to_dataframe = {\n",
    "    \"nyc_zipcodes\": gdf_zipcode_f,\n",
    "    \"311_complaints\": gdf_311_f,\n",
    "    \"nyc_trees\": gdf_tree_f,\n",
    "    \"nyc_rents\": df_rent_f,\n",
    "}"
   ]
  },
  {
   "cell_type": "code",
   "execution_count": null,
   "id": "9fe47779",
   "metadata": {},
   "outputs": [],
   "source": [
    "write_dataframes_to_table(tablename_to_dataframe)"
   ]
  },
  {
   "cell_type": "code",
   "execution_count": null,
   "id": "b949c8bf",
   "metadata": {},
   "outputs": [],
   "source": []
  },
  {
   "cell_type": "markdown",
   "id": "f2e81915",
   "metadata": {},
   "source": [
    "## Part 3: Understanding the Data"
   ]
  },
  {
   "cell_type": "markdown",
   "id": "29983d87",
   "metadata": {},
   "source": [
    "### Query 1"
   ]
  },
  {
   "cell_type": "code",
   "execution_count": null,
   "id": "8a41ebb3",
   "metadata": {},
   "outputs": [],
   "source": [
    "# Helper function to write the queries to file\n",
    "def write_query_to_file(query, outfile):\n",
    "    raise NotImplementedError()"
   ]
  },
  {
   "cell_type": "code",
   "execution_count": null,
   "id": "7cc7321c",
   "metadata": {},
   "outputs": [],
   "source": [
    "QUERY_1_FILENAME = QUERY_DIR / \"FILL_ME_IN\"\n",
    "\n",
    "QUERY_1 = \"\"\"\n",
    "FILL_ME_IN\n",
    "\"\"\""
   ]
  },
  {
   "cell_type": "code",
   "execution_count": null,
   "id": "4074577c",
   "metadata": {},
   "outputs": [],
   "source": [
    "with engine.connect() as conn:\n",
    "    result = conn.execute(db.text(QUERY_1))\n",
    "    for row in result:\n",
    "        print(row)"
   ]
  },
  {
   "cell_type": "code",
   "execution_count": null,
   "id": "31392d32",
   "metadata": {},
   "outputs": [],
   "source": [
    "write_query_to_file(QUERY_1, QUERY_1_FILENAME)"
   ]
  },
  {
   "cell_type": "code",
   "execution_count": null,
   "id": "e82efd1b",
   "metadata": {},
   "outputs": [],
   "source": []
  },
  {
   "cell_type": "markdown",
   "id": "c6b42316",
   "metadata": {},
   "source": [
    "## Part 4: Visualizing the Data"
   ]
  },
  {
   "cell_type": "markdown",
   "id": "67ad0162",
   "metadata": {},
   "source": [
    "### Visualization 1"
   ]
  },
  {
   "cell_type": "code",
   "execution_count": null,
   "id": "5387a2a7",
   "metadata": {},
   "outputs": [],
   "source": [
    "# use a more descriptive name for your function\n",
    "def plot_visual_1(dataframe):\n",
    "    figure, axes = plt.subplots(figsize=(20, 10))\n",
    "    \n",
    "    values = \"...\"  # use the dataframe to pull out values needed to plot\n",
    "    \n",
    "    # you may want to use matplotlib to plot your visualizations;\n",
    "    # there are also many other plot types (other \n",
    "    # than axes.plot) you can use\n",
    "    axes.plot(values, \"...\")\n",
    "    # there are other methods to use to label your axes, to style \n",
    "    # and set up axes labels, etc\n",
    "    axes.set_title(\"Some Descriptive Title\")\n",
    "    \n",
    "    plt.show()"
   ]
  },
  {
   "cell_type": "code",
   "execution_count": null,
   "id": "7e9cfce0",
   "metadata": {},
   "outputs": [],
   "source": [
    "def get_data_for_visual_1():\n",
    "    # Query your database for the data needed.\n",
    "    # You can put the data queried into a pandas/geopandas dataframe, if you wish\n",
    "    raise NotImplementedError()"
   ]
  },
  {
   "cell_type": "code",
   "execution_count": null,
   "id": "efcc3517",
   "metadata": {},
   "outputs": [],
   "source": [
    "some_dataframe = get_data_for_visual_1()\n",
    "plot_visual_1(some_dataframe)"
   ]
  },
  {
   "cell_type": "code",
   "execution_count": null,
   "id": "34e90d2d",
   "metadata": {},
   "outputs": [],
   "source": []
  },
  {
   "cell_type": "code",
   "execution_count": null,
   "id": "84c25e16",
   "metadata": {},
   "outputs": [],
   "source": []
  }
 ],
 "metadata": {
  "kernelspec": {
   "display_name": "Python 3 (ipykernel)",
   "language": "python",
   "name": "python3"
  },
  "language_info": {
   "codemirror_mode": {
    "name": "ipython",
    "version": 3
   },
   "file_extension": ".py",
   "mimetype": "text/x-python",
   "name": "python",
   "nbconvert_exporter": "python",
   "pygments_lexer": "ipython3",
   "version": "3.11.4"
  }
 },
 "nbformat": 4,
 "nbformat_minor": 5
}
